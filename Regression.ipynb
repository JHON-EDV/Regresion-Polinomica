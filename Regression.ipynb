{
  "nbformat": 4,
  "nbformat_minor": 0,
  "metadata": {
    "colab": {
      "name": "Regression.ipynb",
      "provenance": [],
      "collapsed_sections": [],
      "authorship_tag": "ABX9TyPPKoGWVP41a3ytISehdrl3",
      "include_colab_link": true
    },
    "kernelspec": {
      "name": "python3",
      "display_name": "Python 3"
    },
    "language_info": {
      "name": "python"
    }
  },
  "cells": [
    {
      "cell_type": "markdown",
      "metadata": {
        "id": "view-in-github",
        "colab_type": "text"
      },
      "source": [
        "<a href=\"https://colab.research.google.com/github/JHON-EDV/Regresion-Polinomica/blob/master/Regression.ipynb\" target=\"_parent\"><img src=\"https://colab.research.google.com/assets/colab-badge.svg\" alt=\"Open In Colab\"/></a>"
      ]
    },
    {
      "cell_type": "code",
      "metadata": {
        "colab": {
          "base_uri": "https://localhost:8080/",
          "height": 204
        },
        "id": "uCApaVCk0LCx",
        "outputId": "bb6682c2-0866-4a5f-b6e3-c562fabea42c"
      },
      "source": [
        "import numpy as np\n",
        "import pandas as pd\n",
        "import matplotlib.pyplot as plt\n",
        "import sklearn\n",
        "\n",
        "\n",
        "%matplotlib inline\n",
        "\n",
        "# Se cargan los datos\n",
        "spo = pd.read_csv('https://raw.githubusercontent.com/JHON-EDV/Regresion-Polinomica/master/datos_regresion.csv',names=[\"x1\",\"y1\",\"y1r\"])\n",
        "# se imprimen los primeros 5 datos.\n",
        "spo.head()"
      ],
      "execution_count": 26,
      "outputs": [
        {
          "output_type": "execute_result",
          "data": {
            "text/html": [
              "<div>\n",
              "<style scoped>\n",
              "    .dataframe tbody tr th:only-of-type {\n",
              "        vertical-align: middle;\n",
              "    }\n",
              "\n",
              "    .dataframe tbody tr th {\n",
              "        vertical-align: top;\n",
              "    }\n",
              "\n",
              "    .dataframe thead th {\n",
              "        text-align: right;\n",
              "    }\n",
              "</style>\n",
              "<table border=\"1\" class=\"dataframe\">\n",
              "  <thead>\n",
              "    <tr style=\"text-align: right;\">\n",
              "      <th></th>\n",
              "      <th>x1</th>\n",
              "      <th>y1</th>\n",
              "      <th>y1r</th>\n",
              "    </tr>\n",
              "  </thead>\n",
              "  <tbody>\n",
              "    <tr>\n",
              "      <th>0</th>\n",
              "      <td>0.612566</td>\n",
              "      <td>-3.718010</td>\n",
              "      <td>-3.818035</td>\n",
              "    </tr>\n",
              "    <tr>\n",
              "      <th>1</th>\n",
              "      <td>0.989950</td>\n",
              "      <td>-0.954053</td>\n",
              "      <td>-0.961823</td>\n",
              "    </tr>\n",
              "    <tr>\n",
              "      <th>2</th>\n",
              "      <td>0.527680</td>\n",
              "      <td>-3.082132</td>\n",
              "      <td>-3.214144</td>\n",
              "    </tr>\n",
              "    <tr>\n",
              "      <th>3</th>\n",
              "      <td>0.479523</td>\n",
              "      <td>-2.757592</td>\n",
              "      <td>-2.779677</td>\n",
              "    </tr>\n",
              "    <tr>\n",
              "      <th>4</th>\n",
              "      <td>0.801348</td>\n",
              "      <td>-4.547470</td>\n",
              "      <td>-4.327820</td>\n",
              "    </tr>\n",
              "  </tbody>\n",
              "</table>\n",
              "</div>"
            ],
            "text/plain": [
              "         x1        y1       y1r\n",
              "0  0.612566 -3.718010 -3.818035\n",
              "1  0.989950 -0.954053 -0.961823\n",
              "2  0.527680 -3.082132 -3.214144\n",
              "3  0.479523 -2.757592 -2.779677\n",
              "4  0.801348 -4.547470 -4.327820"
            ]
          },
          "metadata": {
            "tags": []
          },
          "execution_count": 26
        }
      ]
    },
    {
      "cell_type": "code",
      "metadata": {
        "colab": {
          "base_uri": "https://localhost:8080/"
        },
        "id": "RJzwZULxAEfu",
        "outputId": "1f4c9fe1-b36a-4509-ee96-1de9220c1631"
      },
      "source": [
        "type(spo['x1']) \n",
        "spo['x1'].values.reshape(-1,1)  # algunas validaciones."
      ],
      "execution_count": 38,
      "outputs": [
        {
          "output_type": "execute_result",
          "data": {
            "text/plain": [
              "array([[0.61256647],\n",
              "       [0.98995021],\n",
              "       [0.52768007],\n",
              "       [0.47952339],\n",
              "       [0.80134761],\n",
              "       [0.22784294],\n",
              "       [0.49809429],\n",
              "       [0.90085249],\n",
              "       [0.57466122],\n",
              "       [0.84517819],\n",
              "       [0.73864029],\n",
              "       [0.58598704],\n",
              "       [0.24673453],\n",
              "       [0.66641622],\n",
              "       [0.08348281],\n",
              "       [0.62595979],\n",
              "       [0.66094456],\n",
              "       [0.72975186],\n",
              "       [0.89075212],\n",
              "       [0.98230322]])"
            ]
          },
          "metadata": {
            "tags": []
          },
          "execution_count": 38
        }
      ]
    },
    {
      "cell_type": "code",
      "metadata": {
        "colab": {
          "base_uri": "https://localhost:8080/"
        },
        "id": "Tg6wx5pS_nja",
        "outputId": "fb1ed911-7830-4a11-bc67-53c7eb6ff496"
      },
      "source": [
        "# Importamos la clase de Regresión Lineal de scikit-learn\n",
        "from sklearn.linear_model import LinearRegression \n",
        "# para generar características polinómicas\n",
        "from sklearn.preprocessing import PolynomialFeatures \n",
        "pf = PolynomialFeatures(degree = 3)    # usaremos polinomios de grado 3\n",
        "X  = pf.fit_transform(spo['x1'].values.reshape(-1,1))\n",
        "regresion_lineal = LinearRegression() # creamos una instancia de LinearRegression\n",
        "# instruimos a la regresión lineal que aprenda de los datos (ahora polinómicos) (X,y)\n",
        "regresion_lineal.fit(X, spo['y1']) \n",
        "# vemos los parámetros que ha estimado la regresión lineal\n",
        "print('w = ' + str(regresion_lineal.coef_) + ', b = ' + str(regresion_lineal.intercept_))\n",
        "print('La funcion obteninda es: {:.2f} x^3 + {:.2f} x^2+ {:.2f} x+ {:.2f} '.format(regresion_lineal.coef_[3],regresion_lineal.coef_[2],regresion_lineal.coef_[1],regresion_lineal.intercept_))"
      ],
      "execution_count": 131,
      "outputs": [
        {
          "output_type": "stream",
          "text": [
            "w = [  0.          22.85694656 -66.1703959   45.81853165], b = -3.632492790991109\n",
            "La funcion obteninda es: 45.82 x^3 + -66.17 x^2+ 22.86 x+ -3.63 \n"
          ],
          "name": "stdout"
        }
      ]
    },
    {
      "cell_type": "code",
      "metadata": {
        "colab": {
          "base_uri": "https://localhost:8080/"
        },
        "id": "qUf8C7cgDu-n",
        "outputId": "d20005e0-6308-451d-b906-28bcc4b3be63"
      },
      "source": [
        "import scipy.integrate as integrate\n",
        "from sklearn.metrics import mean_squared_error # importamos el cálculo del error cuadrático medio (MSE)\n",
        "# Predecimos los valores y para los datos usados en el entrenamiento\n",
        "prediccion_entrenamiento = regresion_lineal.predict(X)\n",
        "# Calculamos el Error de Entrenamiento o de Estimacion \n",
        "error_entrenamiento = np.sum(np.subtract(spo['y1'], prediccion_entrenamiento))\n",
        "print(\"El error de entrenamiento es {:.28f}\".format(error_entrenamiento))\n",
        "y = spo['y1']\n",
        "x = np.power(2,np.subtract(spo['y1'], prediccion_entrenamiento))\n",
        "print(\"El error entre funciones es {:.3f}\".format(integrate.simps(x)))"
      ],
      "execution_count": 132,
      "outputs": [
        {
          "output_type": "stream",
          "text": [
            "El error de entrenamiento es 0.0000000000000417443857259059\n",
            "El error entre funciones es 19.233\n"
          ],
          "name": "stdout"
        },
        {
          "output_type": "execute_result",
          "data": {
            "text/plain": [
              "5.491336782692883"
            ]
          },
          "metadata": {
            "tags": []
          },
          "execution_count": 132
        }
      ]
    },
    {
      "cell_type": "code",
      "metadata": {
        "colab": {
          "base_uri": "https://localhost:8080/",
          "height": 323
        },
        "id": "NW_23YkBGFjS",
        "outputId": "c8c89ae9-d9df-43d0-a603-ae3080834fbb"
      },
      "source": [
        "plt.plot(spo['x1'],spo['y1'],'g^')\n",
        "plt.plot(spo['x1'],prediccion_entrenamiento,'r^')\n",
        "\n",
        "font1 = {'family':'serif','color':'blue','size':20}\n",
        "font2 = {'family':'serif','color':'darkred','size':15}\n",
        "\n",
        "plt.title(\"Predición para polinomio de orden 3\", fontdict = font1)\n",
        "plt.xlabel('X', fontdict = font2)\n",
        "plt.ylabel('Y', fontdict = font2)\n",
        "plt.legend(['Original','Predición'])\n"
      ],
      "execution_count": 133,
      "outputs": [
        {
          "output_type": "execute_result",
          "data": {
            "text/plain": [
              "<matplotlib.legend.Legend at 0x7fec29296210>"
            ]
          },
          "metadata": {
            "tags": []
          },
          "execution_count": 133
        },
        {
          "output_type": "display_data",
          "data": {
            "image/png": "[encoded data removed]",
            "text/plain": [
              "<Figure size 432x288 with 1 Axes>"
            ]
          },
          "metadata": {
            "tags": [],
            "needs_background": "light"
          }
        }
      ]
    },
    {
      "cell_type": "code",
      "metadata": {
        "id": "jO7OJ91DOOZm"
      },
      "source": [
        ""
      ],
      "execution_count": null,
      "outputs": []
    },
    {
      "cell_type": "code",
      "metadata": {
        "id": "BjpflUJSDuM7"
      },
      "source": [
        "from sklearn.metrics import mean_squared_error # importamos el cálculo del error cuadrático medio (MSE)\n",
        "# Predecimos los valores y para los datos usados en el entrenamiento\n",
        "prediccion_entrenamiento = regresion_lineal.predict(X)\n",
        "# Calculamos el Error Cuadrático Medio (MSE = Mean Squared Error)\n",
        "mse = mean_squared_error(y_true = y, y_pred = prediccion_entrenamiento)\n",
        "# La raíz cuadrada del MSE es el RMSE\n",
        "rmse = np.sqrt(mse)\n",
        "print('Error Cuadrático Medio (MSE) = ' + str(mse))\n",
        "print('Raíz del Error Cuadrático Medio (RMSE) = ' + str(rmse))\n",
        "# calculamos el coeficiente de determinación R2\n",
        "r2 = regresion_lineal.score(X, y)\n",
        "print('Coeficiente de Determinación R2 = ' + str(r2))"
      ],
      "execution_count": null,
      "outputs": []
    }
  ]
}